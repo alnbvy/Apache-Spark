{
 "cells": [
  {
   "cell_type": "code",
   "execution_count": 1,
   "metadata": {},
   "outputs": [],
   "source": [
    "try:\n",
    "    from pyspark import SparkContext, SparkConf\n",
    "    from pyspark.sql import SparkSession\n",
    "except ImportError as e:\n",
    "    printmd('<<<<<!!!!! Please restart your kernel after installing Apache Spark !!!!!>>>>>')"
   ]
  },
  {
   "cell_type": "code",
   "execution_count": 2,
   "metadata": {},
   "outputs": [],
   "source": [
    "sc = SparkContext.getOrCreate(SparkConf().setMaster(\"local[*]\"))\n",
    "\n",
    "spark = SparkSession \\\n",
    "    .builder \\\n",
    "    .getOrCreate()"
   ]
  },
  {
   "cell_type": "code",
   "execution_count": 3,
   "metadata": {},
   "outputs": [],
   "source": [
    "df = spark.read.parquet('hmp.parquet')\n",
    "\n",
    "# register a corresponding query table\n",
    "df.createOrReplaceTempView('df')"
   ]
  },
  {
   "cell_type": "code",
   "execution_count": 8,
   "metadata": {},
   "outputs": [
    {
     "name": "stdout",
     "output_type": "stream",
     "text": [
      "+---+---+---+--------------------+-----------+----------+--------------+----------------+--------------------+\n",
      "|  x|  y|  z|              source|      class|classIndex|   categoryVec|        features|       features_norm|\n",
      "+---+---+---+--------------------+-----------+----------+--------------+----------------+--------------------+\n",
      "| 22| 49| 35|Accelerometer-201...|Brush_teeth|       6.0|(13,[6],[1.0])|[22.0,49.0,35.0]|[0.20754716981132...|\n",
      "| 22| 49| 35|Accelerometer-201...|Brush_teeth|       6.0|(13,[6],[1.0])|[22.0,49.0,35.0]|[0.20754716981132...|\n",
      "| 22| 52| 35|Accelerometer-201...|Brush_teeth|       6.0|(13,[6],[1.0])|[22.0,52.0,35.0]|[0.20183486238532...|\n",
      "| 22| 52| 35|Accelerometer-201...|Brush_teeth|       6.0|(13,[6],[1.0])|[22.0,52.0,35.0]|[0.20183486238532...|\n",
      "| 21| 52| 34|Accelerometer-201...|Brush_teeth|       6.0|(13,[6],[1.0])|[21.0,52.0,34.0]|[0.19626168224299...|\n",
      "| 22| 51| 34|Accelerometer-201...|Brush_teeth|       6.0|(13,[6],[1.0])|[22.0,51.0,34.0]|[0.20560747663551...|\n",
      "| 20| 50| 35|Accelerometer-201...|Brush_teeth|       6.0|(13,[6],[1.0])|[20.0,50.0,35.0]|[0.19047619047619...|\n",
      "| 22| 52| 34|Accelerometer-201...|Brush_teeth|       6.0|(13,[6],[1.0])|[22.0,52.0,34.0]|[0.20370370370370...|\n",
      "| 22| 50| 34|Accelerometer-201...|Brush_teeth|       6.0|(13,[6],[1.0])|[22.0,50.0,34.0]|[0.20754716981132...|\n",
      "| 22| 51| 35|Accelerometer-201...|Brush_teeth|       6.0|(13,[6],[1.0])|[22.0,51.0,35.0]|[0.20370370370370...|\n",
      "| 21| 51| 33|Accelerometer-201...|Brush_teeth|       6.0|(13,[6],[1.0])|[21.0,51.0,33.0]|[0.2,0.4857142857...|\n",
      "| 20| 50| 34|Accelerometer-201...|Brush_teeth|       6.0|(13,[6],[1.0])|[20.0,50.0,34.0]|[0.19230769230769...|\n",
      "| 21| 49| 33|Accelerometer-201...|Brush_teeth|       6.0|(13,[6],[1.0])|[21.0,49.0,33.0]|[0.20388349514563...|\n",
      "| 21| 49| 33|Accelerometer-201...|Brush_teeth|       6.0|(13,[6],[1.0])|[21.0,49.0,33.0]|[0.20388349514563...|\n",
      "| 20| 51| 35|Accelerometer-201...|Brush_teeth|       6.0|(13,[6],[1.0])|[20.0,51.0,35.0]|[0.18867924528301...|\n",
      "| 18| 49| 34|Accelerometer-201...|Brush_teeth|       6.0|(13,[6],[1.0])|[18.0,49.0,34.0]|[0.17821782178217...|\n",
      "| 19| 48| 34|Accelerometer-201...|Brush_teeth|       6.0|(13,[6],[1.0])|[19.0,48.0,34.0]|[0.18811881188118...|\n",
      "| 16| 53| 34|Accelerometer-201...|Brush_teeth|       6.0|(13,[6],[1.0])|[16.0,53.0,34.0]|[0.15533980582524...|\n",
      "| 18| 52| 35|Accelerometer-201...|Brush_teeth|       6.0|(13,[6],[1.0])|[18.0,52.0,35.0]|[0.17142857142857...|\n",
      "| 18| 51| 32|Accelerometer-201...|Brush_teeth|       6.0|(13,[6],[1.0])|[18.0,51.0,32.0]|[0.17821782178217...|\n",
      "+---+---+---+--------------------+-----------+----------+--------------+----------------+--------------------+\n",
      "only showing top 20 rows\n",
      "\n"
     ]
    }
   ],
   "source": [
    "from pyspark.ml.feature import OneHotEncoder, StringIndexer, VectorAssembler, Normalizer\n",
    "from pyspark.ml.linalg import Vectors\n",
    "from pyspark.ml import Pipeline\n",
    "\n",
    "indexer = StringIndexer(inputCol=\"class\", outputCol=\"classIndex\")\n",
    "encoder = OneHotEncoder(inputCol=\"classIndex\", outputCol=\"categoryVec\")\n",
    "vectorAssembler = VectorAssembler(inputCols=[\"x\",\"y\",\"z\"],\n",
    "                                  outputCol=\"features\")\n",
    "normalizer = Normalizer(inputCol=\"features\", outputCol=\"features_norm\", p=1.0)\n",
    "\n",
    "pipeline = Pipeline(stages=[indexer, encoder, vectorAssembler, normalizer])\n",
    "model = pipeline.fit(df)\n",
    "prediction = model.transform(df)\n",
    "prediction.show()"
   ]
  },
  {
   "cell_type": "markdown",
   "metadata": {},
   "source": [
    "Now let’s create a new pipeline for kmeans.\n"
   ]
  },
  {
   "cell_type": "code",
   "execution_count": 6,
   "metadata": {},
   "outputs": [
    {
     "name": "stdout",
     "output_type": "stream",
     "text": [
      "Silhouette with squared euclidean distance = 0.41244594513295846\n"
     ]
    }
   ],
   "source": [
    "from pyspark.ml.clustering import KMeans\n",
    "from pyspark.ml.evaluation import ClusteringEvaluator\n",
    "\n",
    "kmeans = KMeans(featuresCol=\"features\").setK(14).setSeed(1)\n",
    "pipeline = Pipeline(stages=[vectorAssembler, kmeans])\n",
    "model = pipeline.fit(df)\n",
    "predictions = model.transform(df)\n",
    "\n",
    "evaluator = ClusteringEvaluator()\n",
    "\n",
    "silhouette = evaluator.evaluate(predictions)\n",
    "print(\"Silhouette with squared euclidean distance = \" + str(silhouette))"
   ]
  },
  {
   "cell_type": "markdown",
   "metadata": {},
   "source": [
    "\n",
    "\n",
    "[https://en.wikipedia.org/wiki/Silhouette\\_(clustering)](https://en.wikipedia.org/wiki/Silhouette_\\(clustering\\)?utm_medium=Exinfluencer&utm_source=Exinfluencer&utm_content=000026UJ&utm_term=10006555&utm_id=NA-SkillsNetwork-Channel-SkillsNetworkCoursesIBMDeveloperSkillsNetworkML0201ENSkillsNetwork20647446-2022-01-01)\n"
   ]
  },
  {
   "cell_type": "code",
   "execution_count": 10,
   "metadata": {},
   "outputs": [
    {
     "name": "stdout",
     "output_type": "stream",
     "text": [
      "Silhouette squared euclidean distance with k = 2 is 0.6875664014387497\n",
      "Silhouette squared euclidean distance with k = 3 is 0.6147915951361759\n",
      "Silhouette squared euclidean distance with k = 4 is 0.6333227654128869\n",
      "Silhouette squared euclidean distance with k = 5 is 0.5937447997439024\n",
      "Silhouette squared euclidean distance with k = 6 is 0.592463658820136\n",
      "Silhouette squared euclidean distance with k = 7 is 0.5484627422401509\n",
      "Silhouette squared euclidean distance with k = 8 is 0.46686489256383346\n",
      "Silhouette squared euclidean distance with k = 9 is 0.48034893889849645\n",
      "Silhouette squared euclidean distance with k = 10 is 0.47370428136987536\n",
      "Silhouette squared euclidean distance with k = 11 is 0.4819049717562352\n",
      "Silhouette squared euclidean distance with k = 12 is 0.40964155503229643\n",
      "Silhouette squared euclidean distance with k = 13 is 0.4153293521373778\n"
     ]
    }
   ],
   "source": [
    "for k in range(2,14):\n",
    "    kmeans = KMeans(featuresCol=\"features\").setK(k).setSeed(1)\n",
    "    pipeline = Pipeline(stages=[vectorAssembler, kmeans])\n",
    "    model = pipeline.fit(df)\n",
    "    predictions = model.transform(df)\n",
    "\n",
    "    evaluator = ClusteringEvaluator()\n",
    "\n",
    "    silhouette = evaluator.evaluate(predictions)\n",
    "    print(\"Silhouette squared euclidean distance with k = {} is {}\".format(k,str(silhouette)))"
   ]
  },
  {
   "cell_type": "code",
   "execution_count": 12,
   "metadata": {},
   "outputs": [
    {
     "name": "stdout",
     "output_type": "stream",
     "text": [
      "Silhouette squared euclidean distance with k = 2 is 0.6462988404434188\n",
      "Silhouette squared euclidean distance with k = 3 is 0.5801675525747375\n",
      "Silhouette squared euclidean distance with k = 4 is 0.5795128843318075\n",
      "Silhouette squared euclidean distance with k = 5 is 0.5378473434364454\n",
      "Silhouette squared euclidean distance with k = 6 is 0.3616039650566081\n",
      "Silhouette squared euclidean distance with k = 7 is 0.3388334984297795\n",
      "Silhouette squared euclidean distance with k = 8 is 0.35346131260617686\n",
      "Silhouette squared euclidean distance with k = 9 is 0.3320686157150071\n",
      "Silhouette squared euclidean distance with k = 10 is 0.31921981409325373\n",
      "Silhouette squared euclidean distance with k = 11 is 0.3166261086889984\n",
      "Silhouette squared euclidean distance with k = 12 is 0.2524553751769574\n",
      "Silhouette squared euclidean distance with k = 13 is 0.2811747980314105\n",
      "Silhouette squared euclidean distance with k = 14 is 0.2668998965895519\n"
     ]
    }
   ],
   "source": [
    "for k in range(2,15):\n",
    "    kmeans = KMeans(featuresCol=\"features_norm\").setK(k).setSeed(1)\n",
    "    pipeline = Pipeline(stages=[vectorAssembler, normalizer, kmeans])\n",
    "    model = pipeline.fit(df)\n",
    "\n",
    "    predictions = model.transform(df)\n",
    "\n",
    "    evaluator = ClusteringEvaluator()\n",
    "\n",
    "    silhouette = evaluator.evaluate(predictions)\n",
    "    print(\"Silhouette squared euclidean distance with k = {} is {}\".format(k,str(silhouette)))\n"
   ]
  },
  {
   "cell_type": "markdown",
   "metadata": {},
   "source": [
    "Sometimes, inflating the dataset helps, here we multiply x by 10, let’s see if the performance inceases.\n"
   ]
  },
  {
   "cell_type": "code",
   "execution_count": 17,
   "metadata": {},
   "outputs": [],
   "source": [
    "from pyspark.sql.functions import col\n",
    "df_denormalized = df.select([col('*'),(col('x')*10)]).drop('x').withColumnRenamed('(x * 10)','x')"
   ]
  },
  {
   "cell_type": "code",
   "execution_count": 18,
   "metadata": {},
   "outputs": [
    {
     "name": "stdout",
     "output_type": "stream",
     "text": [
      "+---+---+--------------------+-----------+---+\n",
      "|  y|  z|              source|      class|  x|\n",
      "+---+---+--------------------+-----------+---+\n",
      "| 49| 35|Accelerometer-201...|Brush_teeth|220|\n",
      "| 49| 35|Accelerometer-201...|Brush_teeth|220|\n",
      "| 52| 35|Accelerometer-201...|Brush_teeth|220|\n",
      "| 52| 35|Accelerometer-201...|Brush_teeth|220|\n",
      "| 52| 34|Accelerometer-201...|Brush_teeth|210|\n",
      "| 51| 34|Accelerometer-201...|Brush_teeth|220|\n",
      "| 50| 35|Accelerometer-201...|Brush_teeth|200|\n",
      "| 52| 34|Accelerometer-201...|Brush_teeth|220|\n",
      "| 50| 34|Accelerometer-201...|Brush_teeth|220|\n",
      "| 51| 35|Accelerometer-201...|Brush_teeth|220|\n",
      "| 51| 33|Accelerometer-201...|Brush_teeth|210|\n",
      "| 50| 34|Accelerometer-201...|Brush_teeth|200|\n",
      "| 49| 33|Accelerometer-201...|Brush_teeth|210|\n",
      "| 49| 33|Accelerometer-201...|Brush_teeth|210|\n",
      "| 51| 35|Accelerometer-201...|Brush_teeth|200|\n",
      "| 49| 34|Accelerometer-201...|Brush_teeth|180|\n",
      "| 48| 34|Accelerometer-201...|Brush_teeth|190|\n",
      "| 53| 34|Accelerometer-201...|Brush_teeth|160|\n",
      "| 52| 35|Accelerometer-201...|Brush_teeth|180|\n",
      "| 51| 32|Accelerometer-201...|Brush_teeth|180|\n",
      "+---+---+--------------------+-----------+---+\n",
      "only showing top 20 rows\n",
      "\n"
     ]
    }
   ],
   "source": [
    "df_denormalized.show()"
   ]
  },
  {
   "cell_type": "code",
   "execution_count": 20,
   "metadata": {},
   "outputs": [
    {
     "name": "stdout",
     "output_type": "stream",
     "text": [
      "Silhouette squared euclidean distance with k = 2 is 0.8263613179673074\n",
      "Silhouette squared euclidean distance with k = 3 is 0.7815106788368535\n",
      "Silhouette squared euclidean distance with k = 4 is 0.7233881535353035\n",
      "Silhouette squared euclidean distance with k = 5 is 0.7127939562980274\n",
      "Silhouette squared euclidean distance with k = 6 is 0.6749934663717159\n",
      "Silhouette squared euclidean distance with k = 7 is 0.6632024338998548\n",
      "Silhouette squared euclidean distance with k = 8 is 0.6592948134738338\n",
      "Silhouette squared euclidean distance with k = 9 is 0.6124942597802276\n",
      "Silhouette squared euclidean distance with k = 10 is 0.6473390776478479\n",
      "Silhouette squared euclidean distance with k = 11 is 0.6295384296417095\n",
      "Silhouette squared euclidean distance with k = 12 is 0.6032474280054309\n",
      "Silhouette squared euclidean distance with k = 13 is 0.5741691916361906\n",
      "Silhouette squared euclidean distance with k = 14 is 0.5709023393004293\n"
     ]
    }
   ],
   "source": [
    "for k in range(2,15):\n",
    "    kmeans = KMeans(featuresCol=\"features\").setK(k).setSeed(1)\n",
    "    pipeline = Pipeline(stages=[vectorAssembler, kmeans])\n",
    "    model = pipeline.fit(df_denormalized)\n",
    "    predictions = model.transform(df_denormalized)\n",
    "\n",
    "    evaluator = ClusteringEvaluator()\n",
    "\n",
    "    silhouette = evaluator.evaluate(predictions)\n",
    "    print(\"Silhouette squared euclidean distance with k = {} is {}\".format(k,str(silhouette)))"
   ]
  },
  {
   "cell_type": "code",
   "execution_count": 21,
   "metadata": {},
   "outputs": [
    {
     "name": "stdout",
     "output_type": "stream",
     "text": [
      "Silhouette squared euclidean distance with k = 2 is 0.3528427198750997\n",
      "Silhouette squared euclidean distance with k = 3 is 0.41320597955203525\n",
      "Silhouette squared euclidean distance with k = 4 is 0.4572038185796801\n",
      "Silhouette squared euclidean distance with k = 5 is 0.4542839848166631\n",
      "Silhouette squared euclidean distance with k = 6 is 0.3574269800636112\n",
      "Silhouette squared euclidean distance with k = 7 is 0.3304041087315892\n",
      "Silhouette squared euclidean distance with k = 8 is 0.2521027765850466\n",
      "Silhouette squared euclidean distance with k = 9 is 0.3679609180820608\n",
      "Silhouette squared euclidean distance with k = 10 is 0.27317277887797353\n",
      "Silhouette squared euclidean distance with k = 11 is 0.14477229176774098\n",
      "Silhouette squared euclidean distance with k = 12 is 0.22676395644566671\n",
      "Silhouette squared euclidean distance with k = 13 is 0.24957429197367767\n",
      "Silhouette squared euclidean distance with k = 14 is 0.15906267433367427\n"
     ]
    }
   ],
   "source": [
    "from pyspark.ml.clustering import GaussianMixture\n",
    "\n",
    "for k in range(2,15):\n",
    "    gmm = GaussianMixture(featuresCol=\"features\").setK(k).setSeed(1)\n",
    "    pipeline = Pipeline(stages=[vectorAssembler, gmm])\n",
    "\n",
    "    model = pipeline.fit(df)\n",
    "\n",
    "    predictions = model.transform(df)\n",
    "\n",
    "    evaluator = ClusteringEvaluator()\n",
    "\n",
    "    silhouette = evaluator.evaluate(predictions)\n",
    "    print(\"Silhouette squared euclidean distance with k = {} is {}\".format(k,str(silhouette)))"
   ]
  }
 ],
 "metadata": {
  "kernelspec": {
   "display_name": "Python 3",
   "language": "python",
   "name": "python3"
  },
  "language_info": {
   "codemirror_mode": {
    "name": "ipython",
    "version": 3
   },
   "file_extension": ".py",
   "mimetype": "text/x-python",
   "name": "python",
   "nbconvert_exporter": "python",
   "pygments_lexer": "ipython3",
   "version": "3.5.6"
  }
 },
 "nbformat": 4,
 "nbformat_minor": 1
}
