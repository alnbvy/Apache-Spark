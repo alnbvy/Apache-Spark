{
 "cells": [
  {
   "cell_type": "code",
   "execution_count": 3,
   "metadata": {},
   "outputs": [],
   "source": [
    "try:\n",
    "    from pyspark import SparkContext, SparkConf\n",
    "    from pyspark.sql import SparkSession\n",
    "except ImportError as e:\n",
    "    printmd('<<<<<!!!!! Please restart your kernel after installing Apache Spark !!!!!>>>>>')"
   ]
  },
  {
   "cell_type": "code",
   "execution_count": 4,
   "metadata": {},
   "outputs": [],
   "source": [
    "sc = SparkContext.getOrCreate(SparkConf().setMaster(\"local[*]\"))\n",
    "\n",
    "spark = SparkSession \\\n",
    "    .builder \\\n",
    "    .getOrCreate()"
   ]
  },
  {
   "cell_type": "code",
   "execution_count": 6,
   "metadata": {},
   "outputs": [],
   "source": [
    "df = spark.read.parquet('washing.parquet')\n"
   ]
  },
  {
   "cell_type": "code",
   "execution_count": 7,
   "metadata": {},
   "outputs": [
    {
     "data": {
      "text/plain": [
       "2058"
      ]
     },
     "execution_count": 7,
     "metadata": {},
     "output_type": "execute_result"
    }
   ],
   "source": [
    "df.count()"
   ]
  },
  {
   "cell_type": "code",
   "execution_count": 8,
   "metadata": {},
   "outputs": [
    {
     "name": "stdout",
     "output_type": "stream",
     "text": [
      "+--------------------+--------------------+-----+--------+----------+---------+--------+-----+-----------+-------------+-------+\n",
      "|                 _id|                _rev|count|flowrate|fluidlevel|frequency|hardness|speed|temperature|           ts|voltage|\n",
      "+--------------------+--------------------+-----+--------+----------+---------+--------+-----+-----------+-------------+-------+\n",
      "|0d86485d0f88d1f9d...|1-57940679fb8a713...|    4|      11|acceptable|     null|      77| null|        100|1547808723923|   null|\n",
      "|0d86485d0f88d1f9d...|1-15ff3a0b304d789...|    2|    null|      null|     null|    null| 1046|       null|1547808729917|   null|\n",
      "|0d86485d0f88d1f9d...|1-97c2742b68c7b07...|    4|    null|      null|       71|    null| null|       null|1547808731918|    236|\n",
      "|0d86485d0f88d1f9d...|1-eefb903dbe45746...|   19|      11|acceptable|     null|      75| null|         86|1547808738999|   null|\n",
      "|0d86485d0f88d1f9d...|1-5f68b4c72813c25...|    7|    null|      null|       75|    null| null|       null|1547808740927|    235|\n",
      "|0d86485d0f88d1f9d...|1-cd4b6c57ddbe77e...|    5|    null|      null|     null|    null| 1014|       null|1547808744923|   null|\n",
      "|0d86485d0f88d1f9d...|1-a35b25b5bf43aaf...|   32|      11|acceptable|     null|      73| null|         84|1547808752028|   null|\n",
      "|0d86485d0f88d1f9d...|1-b717f7289a8476d...|   48|      11|acceptable|     null|      79| null|         84|1547808768065|   null|\n",
      "|0d86485d0f88d1f9d...|1-c2f1f8fcf178b2f...|   18|    null|      null|       73|    null| null|       null|1547808773944|    228|\n",
      "|0d86485d0f88d1f9d...|1-15033dd9eebb4a8...|   59|      11|acceptable|     null|      72| null|         96|1547808779093|   null|\n",
      "|0d86485d0f88d1f9d...|1-753dae825f9a6c2...|   62|      11|acceptable|     null|      73| null|         88|1547808782113|   null|\n",
      "|0d86485d0f88d1f9d...|1-b168089f44f03f0...|   13|    null|      null|     null|    null| 1097|       null|1547808784940|   null|\n",
      "|0d86485d0f88d1f9d...|1-403b687c6be0dea...|   23|    null|      null|       80|    null| null|       null|1547808788955|    236|\n",
      "|0d86485d0f88d1f9d...|1-195551e0455a24b...|   72|      11|acceptable|     null|      77| null|         87|1547808792134|   null|\n",
      "|0d86485d0f88d1f9d...|1-060a39fc6c2ddee...|   26|    null|      null|       62|    null| null|       null|1547808797959|    233|\n",
      "|0d86485d0f88d1f9d...|1-2234514bffee465...|   27|    null|      null|       61|    null| null|       null|1547808800960|    226|\n",
      "|0d86485d0f88d1f9d...|1-4265898bb401db0...|   82|      11|acceptable|     null|      79| null|         96|1547808802154|   null|\n",
      "|0d86485d0f88d1f9d...|1-2fbf7ca9a0425a0...|   94|      11|acceptable|     null|      73| null|         90|1547808814186|   null|\n",
      "|0d86485d0f88d1f9d...|1-203c0ee6d7fbd21...|   97|      11|acceptable|     null|      77| null|         88|1547808817190|   null|\n",
      "|0d86485d0f88d1f9d...|1-47e1965db94fcab...|  104|      11|acceptable|     null|      75| null|         80|1547808824198|   null|\n",
      "+--------------------+--------------------+-----+--------+----------+---------+--------+-----+-----------+-------------+-------+\n",
      "only showing top 20 rows\n",
      "\n"
     ]
    }
   ],
   "source": [
    "df.createOrReplaceTempView(\"washing\")\n",
    "spark.sql(\"SELECT * FROM washing\").show()"
   ]
  },
  {
   "cell_type": "code",
   "execution_count": 9,
   "metadata": {},
   "outputs": [
    {
     "name": "stdout",
     "output_type": "stream",
     "text": [
      "+-------+\n",
      "|voltage|\n",
      "+-------+\n",
      "|    236|\n",
      "|    235|\n",
      "|    228|\n",
      "|    236|\n",
      "|    233|\n",
      "|    226|\n",
      "|    235|\n",
      "|    220|\n",
      "|    225|\n",
      "|    239|\n",
      "|    230|\n",
      "|    236|\n",
      "|    244|\n",
      "|    235|\n",
      "|    234|\n",
      "|    224|\n",
      "|    225|\n",
      "|    223|\n",
      "|    236|\n",
      "|    226|\n",
      "+-------+\n",
      "only showing top 20 rows\n",
      "\n"
     ]
    },
    {
     "data": {
      "text/plain": [
       "[236, 233, 225, 236, 225, 226, 223, 228, 235, 227, 222, 231, 237, 235, 250]"
      ]
     },
     "execution_count": 9,
     "metadata": {},
     "output_type": "execute_result"
    }
   ],
   "source": [
    "result = spark.sql(\"select voltage from washing where voltage is not null\")\n",
    "result.show()\n",
    "result_array = result.rdd.map(lambda row : row.voltage).sample(False,0.1).collect()\n",
    "\n",
    "#just print the 1st 15 elements\n",
    "result_array[:15]"
   ]
  },
  {
   "cell_type": "code",
   "execution_count": 10,
   "metadata": {},
   "outputs": [
    {
     "name": "stdout",
     "output_type": "stream",
     "text": [
      "44\n"
     ]
    }
   ],
   "source": [
    "print(len(result_array))"
   ]
  },
  {
   "cell_type": "code",
   "execution_count": 11,
   "metadata": {},
   "outputs": [
    {
     "data": {
      "text/plain": [
       "list"
      ]
     },
     "execution_count": 11,
     "metadata": {},
     "output_type": "execute_result"
    }
   ],
   "source": [
    "type(result_array)"
   ]
  },
  {
   "cell_type": "code",
   "execution_count": 12,
   "metadata": {},
   "outputs": [],
   "source": [
    "%matplotlib inline"
   ]
  },
  {
   "cell_type": "code",
   "execution_count": 13,
   "metadata": {},
   "outputs": [
    {
     "data": {
      "image/png": "[encoded data removed]",
      "text/plain": [
       "<Figure size 432x288 with 1 Axes>"
      ]
     },
     "metadata": {
      "needs_background": "light"
     },
     "output_type": "display_data"
    }
   ],
   "source": [
    "import matplotlib.pyplot as plt\n",
    "plt.boxplot(result_array)\n",
    "plt.show()"
   ]
  },
  {
   "cell_type": "code",
   "execution_count": 14,
   "metadata": {
    "scrolled": false
   },
   "outputs": [
    {
     "name": "stdout",
     "output_type": "stream",
     "text": [
      "+-------+-------------+\n",
      "|voltage|           ts|\n",
      "+-------+-------------+\n",
      "|    221|1547808722910|\n",
      "|    223|1547808725914|\n",
      "|    222|1547808728916|\n",
      "|    236|1547808731918|\n",
      "|    234|1547808734922|\n",
      "|    234|1547808737926|\n",
      "|    235|1547808740927|\n",
      "|    235|1547808743928|\n",
      "|    222|1547808746929|\n",
      "|    225|1547808749929|\n",
      "|    227|1547808752930|\n",
      "|    224|1547808755932|\n",
      "|    235|1547808758933|\n",
      "|    230|1547808761934|\n",
      "|    221|1547808764937|\n",
      "|    224|1547808767938|\n",
      "|    239|1547808770939|\n",
      "|    228|1547808773944|\n",
      "|    235|1547808776948|\n",
      "|    220|1547808779950|\n",
      "+-------+-------------+\n",
      "only showing top 20 rows\n",
      "\n",
      "[1547808737926, 1547808797959, 1547808806965, 1547808809967, 1547808812970, 1547808824978, 1547808843029, 1547808876043, 1547808897083, 1547808972147, 1547809053217, 1547809083238, 1547809113256, 1547809125263, 1547809131265]\n",
      "[234, 233, 221, 229, 227, 237, 238, 221, 223, 222, 226, 224, 233, 237, 225]\n"
     ]
    }
   ],
   "source": [
    "result = spark.sql(\"select voltage,ts from washing where voltage is not null order by ts asc\")\n",
    "result.show()\n",
    "result_rdd = result.rdd.sample(False,0.1).map(lambda row : (row.ts,row.voltage))\n",
    "result_array_ts = result_rdd.map(lambda ts_voltage: ts_voltage[0]).collect() # Command collect makes a list out of it\n",
    "result_array_voltage = result_rdd.map(lambda ts_voltage: ts_voltage[1]).collect()\n",
    "print(result_array_ts[:15])\n",
    "print(result_array_voltage[:15])"
   ]
  },
  {
   "cell_type": "code",
   "execution_count": 15,
   "metadata": {},
   "outputs": [
    {
     "name": "stdout",
     "output_type": "stream",
     "text": [
      "+-------------+-------------+\n",
      "|      min(ts)|      max(ts)|\n",
      "+-------------+-------------+\n",
      "|1547808720911|1547810064867|\n",
      "+-------------+-------------+\n",
      "\n"
     ]
    }
   ],
   "source": [
    "spark.sql(\"select min(ts),max(ts) from washing\").show()"
   ]
  },
  {
   "cell_type": "code",
   "execution_count": 16,
   "metadata": {},
   "outputs": [
    {
     "data": {
      "image/png": "[encoded data removed]",
      "text/plain": [
       "<Figure size 432x288 with 1 Axes>"
      ]
     },
     "metadata": {
      "needs_background": "light"
     },
     "output_type": "display_data"
    }
   ],
   "source": [
    "result = spark.sql(\n",
    "\"\"\"\n",
    "select voltage,ts from washing \n",
    "    where voltage is not null and \n",
    "    ts > 1547808720911 and\n",
    "    ts <= 1547810064867+3600000\n",
    "    order by ts asc\n",
    "\"\"\") # This doesn't seem right to me\n",
    "result_rdd = result.rdd.map(lambda row : (row.ts,row.voltage))\n",
    "result_array_ts = result_rdd.map(lambda ts_voltage: ts_voltage[0]).collect()\n",
    "result_array_voltage = result_rdd.map(lambda ts_voltage: ts_voltage[1]).collect()\n",
    "plt.plot(result_array_ts,result_array_voltage)\n",
    "plt.xlabel(\"time\")\n",
    "plt.ylabel(\"voltage\")\n",
    "plt.show()"
   ]
  },
  {
   "cell_type": "code",
   "execution_count": 17,
   "metadata": {},
   "outputs": [
    {
     "data": {
      "text/plain": [
       "1341928"
      ]
     },
     "execution_count": 17,
     "metadata": {},
     "output_type": "execute_result"
    }
   ],
   "source": [
    "result_array_ts[-1] - result_array_ts[0]"
   ]
  },
  {
   "cell_type": "code",
   "execution_count": 18,
   "metadata": {},
   "outputs": [
    {
     "data": {
      "text/plain": [
       "[1547808722910,\n",
       " 1547808725914,\n",
       " 1547808728916,\n",
       " 1547808731918,\n",
       " 1547808734922,\n",
       " 1547808737926,\n",
       " 1547808740927,\n",
       " 1547808743928,\n",
       " 1547808746929,\n",
       " 1547808749929,\n",
       " 1547808752930,\n",
       " 1547808755932,\n",
       " 1547808758933,\n",
       " 1547808761934,\n",
       " 1547808764937,\n",
       " 1547808767938,\n",
       " 1547808770939,\n",
       " 1547808773944,\n",
       " 1547808776948,\n",
       " 1547808779950,\n",
       " 1547808782951,\n",
       " 1547808785954,\n",
       " 1547808788955,\n",
       " 1547808791957,\n",
       " 1547808794957,\n",
       " 1547808797959,\n",
       " 1547808800960,\n",
       " 1547808803962,\n",
       " 1547808806965,\n",
       " 1547808809967,\n",
       " 1547808812970,\n",
       " 1547808815972,\n",
       " 1547808818973,\n",
       " 1547808821976,\n",
       " 1547808824978,\n",
       " 1547808827980,\n",
       " 1547808830981,\n",
       " 1547808833983,\n",
       " 1547808836984,\n",
       " 1547808840028,\n",
       " 1547808843029,\n",
       " 1547808846029,\n",
       " 1547808849030,\n",
       " 1547808852031,\n",
       " 1547808855034,\n",
       " 1547808858035,\n",
       " 1547808861036,\n",
       " 1547808864037,\n",
       " 1547808867039,\n",
       " 1547808870039,\n",
       " 1547808873042,\n",
       " 1547808876043,\n",
       " 1547808879044,\n",
       " 1547808882045,\n",
       " 1547808885074,\n",
       " 1547808888076,\n",
       " 1547808891076,\n",
       " 1547808894081,\n",
       " 1547808897083,\n",
       " 1547808900085,\n",
       " 1547808903087,\n",
       " 1547808906089,\n",
       " 1547808909090,\n",
       " 1547808912091,\n",
       " 1547808915092,\n",
       " 1547808918094,\n",
       " 1547808921096,\n",
       " 1547808924097,\n",
       " 1547808927099,\n",
       " 1547808930101,\n",
       " 1547808933120,\n",
       " 1547808936120,\n",
       " 1547808939122,\n",
       " 1547808942124,\n",
       " 1547808945126,\n",
       " 1547808948129,\n",
       " 1547808951131,\n",
       " 1547808954133,\n",
       " 1547808957136,\n",
       " 1547808960137,\n",
       " 1547808963139,\n",
       " 1547808966142,\n",
       " 1547808969144,\n",
       " 1547808972147,\n",
       " 1547808975148,\n",
       " 1547808978152,\n",
       " 1547808981157,\n",
       " 1547808984163,\n",
       " 1547808987166,\n",
       " 1547808990168,\n",
       " 1547808993170,\n",
       " 1547808996171,\n",
       " 1547808999173,\n",
       " 1547809002173,\n",
       " 1547809005175,\n",
       " 1547809008177,\n",
       " 1547809011179,\n",
       " 1547809014196,\n",
       " 1547809017198,\n",
       " 1547809020199,\n",
       " 1547809023201,\n",
       " 1547809026203,\n",
       " 1547809029206,\n",
       " 1547809032208,\n",
       " 1547809035209,\n",
       " 1547809038211,\n",
       " 1547809041212,\n",
       " 1547809044214,\n",
       " 1547809047216,\n",
       " 1547809050217,\n",
       " 1547809053217,\n",
       " 1547809056219,\n",
       " 1547809059221,\n",
       " 1547809062222,\n",
       " 1547809065223,\n",
       " 1547809068223,\n",
       " 1547809071226,\n",
       " 1547809074227,\n",
       " 1547809077231,\n",
       " 1547809080236,\n",
       " 1547809083238,\n",
       " 1547809086239,\n",
       " 1547809089240,\n",
       " 1547809092245,\n",
       " 1547809095246,\n",
       " 1547809098247,\n",
       " 1547809101247,\n",
       " 1547809104249,\n",
       " 1547809107251,\n",
       " 1547809110254,\n",
       " 1547809113256,\n",
       " 1547809116259,\n",
       " 1547809119261,\n",
       " 1547809122262,\n",
       " 1547809125263,\n",
       " 1547809128263,\n",
       " 1547809131265,\n",
       " 1547809134265,\n",
       " 1547809137266,\n",
       " 1547809140268,\n",
       " 1547809143268,\n",
       " 1547809146269,\n",
       " 1547809149271,\n",
       " 1547809152272,\n",
       " 1547809155272,\n",
       " 1547809158278,\n",
       " 1547809161280,\n",
       " 1547809164281,\n",
       " 1547809167306,\n",
       " 1547809170308,\n",
       " 1547809173309,\n",
       " 1547809176311,\n",
       " 1547809179312,\n",
       " 1547809182314,\n",
       " 1547809185316,\n",
       " 1547809188318,\n",
       " 1547809191320,\n",
       " 1547809194321,\n",
       " 1547809197322,\n",
       " 1547809200323,\n",
       " 1547809203325,\n",
       " 1547809206326,\n",
       " 1547809209328,\n",
       " 1547809212330,\n",
       " 1547809215330,\n",
       " 1547809218332,\n",
       " 1547809221335,\n",
       " 1547809224340,\n",
       " 1547809227342,\n",
       " 1547809230343,\n",
       " 1547809233344,\n",
       " 1547809236348,\n",
       " 1547809239349,\n",
       " 1547809242350,\n",
       " 1547809245351,\n",
       " 1547809248352,\n",
       " 1547809251354,\n",
       " 1547809254357,\n",
       " 1547809257358,\n",
       " 1547809260359,\n",
       " 1547809263370,\n",
       " 1547809266373,\n",
       " 1547809269373,\n",
       " 1547809272375,\n",
       " 1547809275375,\n",
       " 1547809278377,\n",
       " 1547809281378,\n",
       " 1547809284381,\n",
       " 1547809287386,\n",
       " 1547809290387,\n",
       " 1547809293387,\n",
       " 1547809296389,\n",
       " 1547809299391,\n",
       " 1547809302392,\n",
       " 1547809305393,\n",
       " 1547809308395,\n",
       " 1547809311397,\n",
       " 1547809314399,\n",
       " 1547809317399,\n",
       " 1547809320400,\n",
       " 1547809323400,\n",
       " 1547809326401,\n",
       " 1547809329402,\n",
       " 1547809332403,\n",
       " 1547809335405,\n",
       " 1547809338406,\n",
       " 1547809341407,\n",
       " 1547809344407,\n",
       " 1547809347408,\n",
       " 1547809350411,\n",
       " 1547809353411,\n",
       " 1547809356412,\n",
       " 1547809359413,\n",
       " 1547809362415,\n",
       " 1547809365418,\n",
       " 1547809368421,\n",
       " 1547809371425,\n",
       " 1547809374427,\n",
       " 1547809377430,\n",
       " 1547809380431,\n",
       " 1547809383432,\n",
       " 1547809386437,\n",
       " 1547809389438,\n",
       " 1547809392440,\n",
       " 1547809395442,\n",
       " 1547809398443,\n",
       " 1547809401446,\n",
       " 1547809404454,\n",
       " 1547809407456,\n",
       " 1547809410457,\n",
       " 1547809413458,\n",
       " 1547809416460,\n",
       " 1547809419462,\n",
       " 1547809422464,\n",
       " 1547809425465,\n",
       " 1547809428466,\n",
       " 1547809431468,\n",
       " 1547809434470,\n",
       " 1547809437472,\n",
       " 1547809440473,\n",
       " 1547809443473,\n",
       " 1547809446476,\n",
       " 1547809449477,\n",
       " 1547809452479,\n",
       " 1547809455481,\n",
       " 1547809458483,\n",
       " 1547809461487,\n",
       " 1547809464487,\n",
       " 1547809467488,\n",
       " 1547809470489,\n",
       " 1547809473491,\n",
       " 1547809476494,\n",
       " 1547809479496,\n",
       " 1547809482500,\n",
       " 1547809485502,\n",
       " 1547809488503,\n",
       " 1547809491504,\n",
       " 1547809494506,\n",
       " 1547809497508,\n",
       " 1547809500510,\n",
       " 1547809503512,\n",
       " 1547809506513,\n",
       " 1547809509517,\n",
       " 1547809512522,\n",
       " 1547809515522,\n",
       " 1547809518524,\n",
       " 1547809521525,\n",
       " 1547809524531,\n",
       " 1547809527533,\n",
       " 1547809530534,\n",
       " 1547809533536,\n",
       " 1547809536538,\n",
       " 1547809539539,\n",
       " 1547809542541,\n",
       " 1547809545541,\n",
       " 1547809548544,\n",
       " 1547809551547,\n",
       " 1547809554550,\n",
       " 1547809557551,\n",
       " 1547809560553,\n",
       " 1547809563554,\n",
       " 1547809566555,\n",
       " 1547809569557,\n",
       " 1547809572560,\n",
       " 1547809575562,\n",
       " 1547809578564,\n",
       " 1547809581566,\n",
       " 1547809584568,\n",
       " 1547809587575,\n",
       " 1547809590576,\n",
       " 1547809593577,\n",
       " 1547809596578,\n",
       " 1547809599579,\n",
       " 1547809602581,\n",
       " 1547809605583,\n",
       " 1547809608585,\n",
       " 1547809611586,\n",
       " 1547809614588,\n",
       " 1547809617589,\n",
       " 1547809620590,\n",
       " 1547809623592,\n",
       " 1547809626593,\n",
       " 1547809629595,\n",
       " 1547809632596,\n",
       " 1547809635597,\n",
       " 1547809638598,\n",
       " 1547809641601,\n",
       " 1547809644601,\n",
       " 1547809647603,\n",
       " 1547809650606,\n",
       " 1547809653607,\n",
       " 1547809656609,\n",
       " 1547809659610,\n",
       " 1547809662621,\n",
       " 1547809665622,\n",
       " 1547809668626,\n",
       " 1547809671628,\n",
       " 1547809674629,\n",
       " 1547809677631,\n",
       " 1547809680634,\n",
       " 1547809683637,\n",
       " 1547809686638,\n",
       " 1547809689642,\n",
       " 1547809692642,\n",
       " 1547809695646,\n",
       " 1547809698650,\n",
       " 1547809701652,\n",
       " 1547809704653,\n",
       " 1547809707654,\n",
       " 1547809710656,\n",
       " 1547809713658,\n",
       " 1547809716659,\n",
       " 1547809719661,\n",
       " 1547809722661,\n",
       " 1547809725662,\n",
       " 1547809728666,\n",
       " 1547809731669,\n",
       " 1547809734672,\n",
       " 1547809737677,\n",
       " 1547809740682,\n",
       " 1547809743683,\n",
       " 1547809746685,\n",
       " 1547809749687,\n",
       " 1547809752688,\n",
       " 1547809755689,\n",
       " 1547809758690,\n",
       " 1547809761693,\n",
       " 1547809764695,\n",
       " 1547809767697,\n",
       " 1547809770699,\n",
       " 1547809773702,\n",
       " 1547809776704,\n",
       " 1547809779705,\n",
       " 1547809782706,\n",
       " 1547809785712,\n",
       " 1547809788713,\n",
       " 1547809791714,\n",
       " 1547809794715,\n",
       " 1547809797716,\n",
       " 1547809800718,\n",
       " 1547809803719,\n",
       " 1547809806723,\n",
       " 1547809809725,\n",
       " 1547809812727,\n",
       " 1547809815728,\n",
       " 1547809818730,\n",
       " 1547809821731,\n",
       " 1547809824732,\n",
       " 1547809827733,\n",
       " 1547809830733,\n",
       " 1547809833735,\n",
       " 1547809836736,\n",
       " 1547809839737,\n",
       " 1547809842739,\n",
       " 1547809845741,\n",
       " 1547809848742,\n",
       " 1547809851743,\n",
       " 1547809854744,\n",
       " 1547809857745,\n",
       " 1547809860746,\n",
       " 1547809863748,\n",
       " 1547809866750,\n",
       " 1547809869750,\n",
       " 1547809872751,\n",
       " 1547809875752,\n",
       " 1547809878753,\n",
       " 1547809881754,\n",
       " 1547809884755,\n",
       " 1547809887762,\n",
       " 1547809890764,\n",
       " 1547809893765,\n",
       " 1547809896767,\n",
       " 1547809899768,\n",
       " 1547809902769,\n",
       " 1547809905769,\n",
       " 1547809908773,\n",
       " 1547809911775,\n",
       " 1547809914775,\n",
       " 1547809917777,\n",
       " 1547809920779,\n",
       " 1547809923780,\n",
       " 1547809926781,\n",
       " 1547809929781,\n",
       " 1547809932783,\n",
       " 1547809935784,\n",
       " 1547809938785,\n",
       " 1547809941788,\n",
       " 1547809944788,\n",
       " 1547809947789,\n",
       " 1547809950792,\n",
       " 1547809953793,\n",
       " 1547809956794,\n",
       " 1547809959796,\n",
       " 1547809962797,\n",
       " 1547809965798,\n",
       " 1547809968800,\n",
       " 1547809971801,\n",
       " 1547809974801,\n",
       " 1547809977801,\n",
       " 1547809980803,\n",
       " 1547809983803,\n",
       " 1547809986805,\n",
       " 1547809989809,\n",
       " 1547809992810,\n",
       " 1547809995811,\n",
       " 1547809998812,\n",
       " 1547810001814,\n",
       " 1547810004815,\n",
       " 1547810007815,\n",
       " 1547810010816,\n",
       " 1547810013816,\n",
       " 1547810016817,\n",
       " 1547810019818,\n",
       " 1547810022819,\n",
       " 1547810025820,\n",
       " 1547810028821,\n",
       " 1547810031821,\n",
       " 1547810034821,\n",
       " 1547810037821,\n",
       " 1547810040824,\n",
       " 1547810043826,\n",
       " 1547810046827,\n",
       " 1547810049828,\n",
       " 1547810052830,\n",
       " 1547810055831,\n",
       " 1547810058832,\n",
       " 1547810061835,\n",
       " 1547810064838]"
      ]
     },
     "execution_count": 18,
     "metadata": {},
     "output_type": "execute_result"
    }
   ],
   "source": [
    "result_array_ts"
   ]
  },
  {
   "cell_type": "code",
   "execution_count": 19,
   "metadata": {},
   "outputs": [],
   "source": [
    "result_df = spark.sql(\"\"\"\n",
    "select hardness,temperature,flowrate from washing\n",
    "    where hardness is not null and \n",
    "    temperature is not null and \n",
    "    flowrate is not null\n",
    "\"\"\")\n",
    "result_rdd = result_df.rdd.sample(False,0.1).map(lambda row : (row.hardness,row.temperature,row.flowrate))\n",
    "result_array_hardness = result_rdd.map(lambda hardness_temperature_flowrate: hardness_temperature_flowrate[0]).collect()\n",
    "result_array_temperature = result_rdd.map(lambda hardness_temperature_flowrate: hardness_temperature_flowrate[1]).collect()\n",
    "result_array_flowrate = result_rdd.map(lambda hardness_temperature_flowrate: hardness_temperature_flowrate[2]).collect()"
   ]
  },
  {
   "cell_type": "code",
   "execution_count": 20,
   "metadata": {},
   "outputs": [
    {
     "data": {
      "image/png": "[encoded data removed]",
      "text/plain": [
       "<Figure size 432x288 with 1 Axes>"
      ]
     },
     "metadata": {
      "needs_background": "light"
     },
     "output_type": "display_data"
    }
   ],
   "source": [
    "from mpl_toolkits.mplot3d import Axes3D\n",
    "\n",
    "fig = plt.figure()\n",
    "ax = fig.add_subplot(111, projection='3d')\n",
    "\n",
    "ax.scatter(result_array_hardness,result_array_temperature,result_array_flowrate, c='r', marker='o')\n",
    "\n",
    "ax.set_xlabel('hardness')\n",
    "ax.set_ylabel('temperature')\n",
    "ax.set_zlabel('flowrate')\n",
    "\n",
    "plt.show()"
   ]
  },
  {
   "cell_type": "code",
   "execution_count": 21,
   "metadata": {},
   "outputs": [
    {
     "data": {
      "image/png": "[encoded data removed]",
      "text/plain": [
       "<Figure size 432x288 with 1 Axes>"
      ]
     },
     "metadata": {
      "needs_background": "light"
     },
     "output_type": "display_data"
    }
   ],
   "source": [
    "plt.hist(result_array_hardness)\n",
    "plt.show()"
   ]
  }
 ],
 "metadata": {
  "kernelspec": {
   "display_name": "Python 3",
   "language": "python",
   "name": "python3"
  },
  "language_info": {
   "codemirror_mode": {
    "name": "ipython",
    "version": 3
   },
   "file_extension": ".py",
   "mimetype": "text/x-python",
   "name": "python",
   "nbconvert_exporter": "python",
   "pygments_lexer": "ipython3",
   "version": "3.5.6"
  }
 },
 "nbformat": 4,
 "nbformat_minor": 1
}
